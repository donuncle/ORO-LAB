{
  "nbformat": 4,
  "nbformat_minor": 0,
  "metadata": {
    "colab": {
      "name": "Exp_1_Utkarsh_R103219028.ipynb",
      "provenance": [],
      "authorship_tag": "ABX9TyO6WrgUowYBqzBc/P9mbY+O",
      "include_colab_link": true
    },
    "kernelspec": {
      "name": "python3",
      "display_name": "Python 3"
    },
    "language_info": {
      "name": "python"
    }
  },
  "cells": [
    {
      "cell_type": "markdown",
      "metadata": {
        "id": "view-in-github",
        "colab_type": "text"
      },
      "source": [
        "<a href=\"https://colab.research.google.com/github/donuncle/ORO-LAB/blob/main/Exp_1_Utkarsh_R103219028.ipynb\" target=\"_parent\"><img src=\"https://colab.research.google.com/assets/colab-badge.svg\" alt=\"Open In Colab\"/></a>"
      ]
    },
    {
      "cell_type": "code",
      "execution_count": 1,
      "metadata": {
        "id": "5y_-6Wer4RV3"
      },
      "outputs": [],
      "source": [
        "from scipy.optimize import linprog"
      ]
    },
    {
      "cell_type": "code",
      "source": [
        "obj = [1, 1]"
      ],
      "metadata": {
        "id": "2jpJ1dbB7mzl"
      },
      "execution_count": 2,
      "outputs": []
    },
    {
      "cell_type": "code",
      "source": [
        "lhs_ineq = [[ 1,  2],[2,  1]]\n",
        "rhs_ineq = [6, 6]"
      ],
      "metadata": {
        "id": "I-6TBGu-7su_"
      },
      "execution_count": 3,
      "outputs": []
    },
    {
      "cell_type": "code",
      "source": [
        "bnd = [(0, float(\"inf\")), (0, float(\"inf\"))]  # Bounds of x & y"
      ],
      "metadata": {
        "id": "xzywebAL7v0E"
      },
      "execution_count": 4,
      "outputs": []
    },
    {
      "cell_type": "code",
      "source": [
        "opt = linprog(c=obj, A_ub=lhs_ineq, b_ub=rhs_ineq,\n",
        "...               bounds=bnd,\n",
        "...               method=\"revised simplex\")"
      ],
      "metadata": {
        "id": "tZ6JGHBv7ySD"
      },
      "execution_count": 5,
      "outputs": []
    },
    {
      "cell_type": "code",
      "source": [
        "opt"
      ],
      "metadata": {
        "colab": {
          "base_uri": "https://localhost:8080/"
        },
        "id": "F1RbjraW7z8Z",
        "outputId": "3347f3af-a94c-4236-80c3-b3cb5db70977"
      },
      "execution_count": 6,
      "outputs": [
        {
          "output_type": "execute_result",
          "data": {
            "text/plain": [
              "     con: array([], dtype=float64)\n",
              "     fun: 0.0\n",
              " message: 'Optimization terminated successfully.'\n",
              "     nit: 0\n",
              "   slack: array([6., 6.])\n",
              "  status: 0\n",
              " success: True\n",
              "       x: array([0., 0.])"
            ]
          },
          "metadata": {},
          "execution_count": 6
        }
      ]
    },
    {
      "cell_type": "code",
      "source": [
        ""
      ],
      "metadata": {
        "id": "FFmyNubE71Ja"
      },
      "execution_count": null,
      "outputs": []
    }
  ]
}