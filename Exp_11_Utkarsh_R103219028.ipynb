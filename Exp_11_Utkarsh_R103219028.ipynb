{
  "nbformat": 4,
  "nbformat_minor": 0,
  "metadata": {
    "colab": {
      "name": "Exp_11_Utkarsh_R103219028.ipynb",
      "provenance": [],
      "authorship_tag": "ABX9TyMNgd3n+i0QLWACGLw4ZX5E",
      "include_colab_link": true
    },
    "kernelspec": {
      "name": "python3",
      "display_name": "Python 3"
    },
    "language_info": {
      "name": "python"
    }
  },
  "cells": [
    {
      "cell_type": "markdown",
      "metadata": {
        "id": "view-in-github",
        "colab_type": "text"
      },
      "source": [
        "<a href=\"https://colab.research.google.com/github/donuncle/ORO-LAB/blob/main/Exp_11_Utkarsh_R103219028.ipynb\" target=\"_parent\"><img src=\"https://colab.research.google.com/assets/colab-badge.svg\" alt=\"Open In Colab\"/></a>"
      ]
    },
    {
      "cell_type": "markdown",
      "source": [
        "Problem 1"
      ],
      "metadata": {
        "id": "otVxQx_gHpzP"
      }
    },
    {
      "cell_type": "code",
      "execution_count": 1,
      "metadata": {
        "colab": {
          "base_uri": "https://localhost:8080/"
        },
        "id": "kn3K-otjHovb",
        "outputId": "7ea51f31-57bf-44fc-ffb6-5a0fe6497f6d"
      },
      "outputs": [
        {
          "output_type": "stream",
          "name": "stdout",
          "text": [
            "Total assignment cost is 280\n"
          ]
        }
      ],
      "source": [
        "import numpy as np\n",
        "from scipy.optimize import linear_sum_assignment\n",
        "cost_matrix = np.array([[120, 100, 80], [80, 90, 110], [110, 140, 120]])\n",
        "row_ind, col_ind = linear_sum_assignment(cost_matrix)\n",
        "opt_ass = col_ind\n",
        "tc = cost_matrix[row_ind, col_ind].sum()\n",
        "print('Total assignment cost is %d' %tc)"
      ]
    },
    {
      "cell_type": "markdown",
      "source": [
        "Problem 2"
      ],
      "metadata": {
        "id": "KqLY5lMuHy4M"
      }
    },
    {
      "cell_type": "code",
      "source": [
        "cost_matrix1 = np.array([[10, 5, 13, 15, 16], [3, 9, 18, 13, 6], [10, 7, 2, 2, 2], [7, 11, 9, 7, 12], [7, 9, 10, 4 , 12]])\n",
        "row_ind1, col_ind1 = linear_sum_assignment(cost_matrix1)\n",
        "opt_ass1 = col_ind1\n",
        "tc1 = cost_matrix1[row_ind1, col_ind1].sum()\n",
        "print('Total assignment cost is %d' %tc1)"
      ],
      "metadata": {
        "colab": {
          "base_uri": "https://localhost:8080/"
        },
        "id": "AIoNdglOHr3-",
        "outputId": "c08306a5-e43d-414f-d4bd-351061126d59"
      },
      "execution_count": 2,
      "outputs": [
        {
          "output_type": "stream",
          "name": "stdout",
          "text": [
            "Total assignment cost is 23\n"
          ]
        }
      ]
    },
    {
      "cell_type": "code",
      "source": [
        ""
      ],
      "metadata": {
        "id": "H9uFN2yYH0jH"
      },
      "execution_count": null,
      "outputs": []
    }
  ]
}