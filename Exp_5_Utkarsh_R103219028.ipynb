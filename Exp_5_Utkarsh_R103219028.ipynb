{
  "nbformat": 4,
  "nbformat_minor": 0,
  "metadata": {
    "colab": {
      "name": "Exp_5_Utkarsh_R103219028.ipynb",
      "provenance": [],
      "authorship_tag": "ABX9TyMS58Fs9Ic6jlbP7epoIspx",
      "include_colab_link": true
    },
    "kernelspec": {
      "name": "python3",
      "display_name": "Python 3"
    },
    "language_info": {
      "name": "python"
    }
  },
  "cells": [
    {
      "cell_type": "markdown",
      "metadata": {
        "id": "view-in-github",
        "colab_type": "text"
      },
      "source": [
        "<a href=\"https://colab.research.google.com/github/donuncle/ORO-LAB/blob/main/Exp_5_Utkarsh_R103219028.ipynb\" target=\"_parent\"><img src=\"https://colab.research.google.com/assets/colab-badge.svg\" alt=\"Open In Colab\"/></a>"
      ]
    },
    {
      "cell_type": "code",
      "execution_count": 1,
      "metadata": {
        "colab": {
          "base_uri": "https://localhost:8080/"
        },
        "id": "cD6pEWaRArY9",
        "outputId": "9e6f9b9e-42e7-4bc0-8b4a-bb961c47a4fc"
      },
      "outputs": [
        {
          "output_type": "stream",
          "name": "stdout",
          "text": [
            "Requirement already satisfied: scipy in /usr/local/lib/python3.7/dist-packages (1.4.1)\n",
            "Requirement already satisfied: numpy>=1.13.3 in /usr/local/lib/python3.7/dist-packages (from scipy) (1.19.5)\n"
          ]
        }
      ],
      "source": [
        "!pip install scipy"
      ]
    },
    {
      "cell_type": "code",
      "source": [
        "from scipy import *"
      ],
      "metadata": {
        "id": "BMI3O7liB8ZN"
      },
      "execution_count": 2,
      "outputs": []
    },
    {
      "cell_type": "markdown",
      "source": [
        "Problem-1"
      ],
      "metadata": {
        "id": "5NjeQxj2CCKR"
      }
    },
    {
      "cell_type": "code",
      "source": [
        "from scipy.optimize import linprog\n",
        "import time\n",
        "c = [-3,-2,-3]\n",
        "A = [[2,1,1],[1,3,1],[3,4,2]]\n",
        "b = [2,6,8]\n",
        "x1_bnds = (0, None)\n",
        "x2_bnds = (0, None)\n",
        "x3_bnds = (0, None)\n",
        "begin = time.time()\n",
        "res = linprog(c, A_eq=A, b_eq=b, bounds=(x1_bnds, x2_bnds, x3_bnds), method='simplex', options={\"disp\":True})\n",
        "print(\"Time taken: %s seconds\"%(time.time()-begin))\n",
        "print(res)"
      ],
      "metadata": {
        "colab": {
          "base_uri": "https://localhost:8080/"
        },
        "id": "vI7foxQFB_DS",
        "outputId": "5c53352e-6c43-4a07-ab77-18014e31cc0b"
      },
      "execution_count": 3,
      "outputs": [
        {
          "output_type": "stream",
          "name": "stdout",
          "text": [
            "Optimization terminated successfully.\n",
            "         Current function value: -4.000000   \n",
            "         Iterations: 3\n",
            "Time taken: 0.0368649959564209 seconds\n",
            "     con: array([0., 0., 0.])\n",
            "     fun: -4.0\n",
            " message: 'Optimization terminated successfully.'\n",
            "     nit: 3\n",
            "   slack: array([], dtype=float64)\n",
            "  status: 0\n",
            " success: True\n",
            "       x: array([0., 2., 0.])\n"
          ]
        },
        {
          "output_type": "stream",
          "name": "stderr",
          "text": [
            "/usr/local/lib/python3.7/dist-packages/ipykernel_launcher.py:10: OptimizeWarning: A_eq does not appear to be of full row rank. To improve performance, check the problem formulation for redundant equality constraints.\n",
            "  # Remove the CWD from sys.path while we load stuff.\n"
          ]
        }
      ]
    },
    {
      "cell_type": "markdown",
      "source": [
        "Problem-2"
      ],
      "metadata": {
        "id": "sfeygoeTCIZm"
      }
    },
    {
      "cell_type": "code",
      "source": [
        "c = [3,-4,3]\n",
        "A = [[5,6,2],[1,-3,-5],[2,5,-4]]\n",
        "b = [5,-8,4]\n",
        "x1_bnds = (0, None)\n",
        "x2_bnds = (0, None)\n",
        "x3_bnds = (0, None)\n",
        "begin = time.time()\n",
        "res2 = linprog(c, A, b, bounds=(x1_bnds, x2_bnds, x3_bnds), method='simplex', options={\"disp\":True})\n",
        "print(\"Time taken: %s seconds\"%(time.time()-begin))\n",
        "print(res2)"
      ],
      "metadata": {
        "colab": {
          "base_uri": "https://localhost:8080/"
        },
        "id": "HcQnxtsHCESs",
        "outputId": "9b4ae6e0-3ee3-469c-9122-eb281ee8d50c"
      },
      "execution_count": 4,
      "outputs": [
        {
          "output_type": "stream",
          "name": "stdout",
          "text": [
            "Optimization terminated successfully.\n",
            "         Current function value: 2.625000    \n",
            "         Iterations: 3\n",
            "Time taken: 0.01304006576538086 seconds\n",
            "     con: array([], dtype=float64)\n",
            "     fun: 2.624999999999999\n",
            " message: 'Optimization terminated successfully.'\n",
            "     nit: 3\n",
            "   slack: array([ 0.0000000e+00, -8.8817842e-16,  7.6250000e+00])\n",
            "  status: 0\n",
            " success: True\n",
            "       x: array([0.   , 0.375, 1.375])\n"
          ]
        }
      ]
    },
    {
      "cell_type": "markdown",
      "source": [
        "Problem 3"
      ],
      "metadata": {
        "id": "LOVWix9xCOKj"
      }
    },
    {
      "cell_type": "code",
      "source": [
        "c = [-2,-4,-4,3]\n",
        "A = [[1,1,1,0],[1,4,0,1],[3,4,2,0]]\n",
        "b = [4,8,8]\n",
        "x1_bnds = (0, None)\n",
        "x2_bnds = (0, None)\n",
        "x3_bnds = (0, None)\n",
        "x4_bnds = (0, None)\n",
        "begin=time.time()\n",
        "res3 = linprog(c, A_eq=A, b_eq=b, bounds=(x1_bnds, x2_bnds, x3_bnds, x4_bnds), method='simplex', options={\"disp\":True})\n",
        "print(\"Time taken: %s seconds\"%(time.time()-begin))\n",
        "print(res3)"
      ],
      "metadata": {
        "colab": {
          "base_uri": "https://localhost:8080/"
        },
        "id": "2n1oI8bWCKS7",
        "outputId": "99c77771-11df-47e8-c4cb-ee76560a59e4"
      },
      "execution_count": 5,
      "outputs": [
        {
          "output_type": "stream",
          "name": "stdout",
          "text": [
            "Optimization terminated successfully.\n",
            "         Current function value: 8.000000    \n",
            "         Iterations: 3\n",
            "Time taken: 0.006850481033325195 seconds\n",
            "     con: array([0., 0., 0.])\n",
            "     fun: 8.0\n",
            " message: 'Optimization terminated successfully.'\n",
            "     nit: 3\n",
            "   slack: array([], dtype=float64)\n",
            "  status: 0\n",
            " success: True\n",
            "       x: array([0., 0., 4., 8.])\n"
          ]
        }
      ]
    },
    {
      "cell_type": "code",
      "source": [
        ""
      ],
      "metadata": {
        "id": "6QtpSAOkCQvf"
      },
      "execution_count": null,
      "outputs": []
    }
  ]
}