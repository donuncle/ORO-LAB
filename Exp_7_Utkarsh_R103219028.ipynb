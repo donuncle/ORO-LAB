{
  "nbformat": 4,
  "nbformat_minor": 0,
  "metadata": {
    "colab": {
      "name": "Exp_7_Utkarsh_R103219028.ipynb",
      "provenance": [],
      "authorship_tag": "ABX9TyN5oiQOjBcLnprmnG/61b4d",
      "include_colab_link": true
    },
    "kernelspec": {
      "name": "python3",
      "display_name": "Python 3"
    },
    "language_info": {
      "name": "python"
    }
  },
  "cells": [
    {
      "cell_type": "markdown",
      "metadata": {
        "id": "view-in-github",
        "colab_type": "text"
      },
      "source": [
        "<a href=\"https://colab.research.google.com/github/donuncle/ORO-LAB/blob/main/Exp_7_Utkarsh_R103219028.ipynb\" target=\"_parent\"><img src=\"https://colab.research.google.com/assets/colab-badge.svg\" alt=\"Open In Colab\"/></a>"
      ]
    },
    {
      "cell_type": "code",
      "execution_count": 1,
      "metadata": {
        "id": "vs1dbogKDfcP"
      },
      "outputs": [],
      "source": [
        "from scipy.optimize import linprog"
      ]
    },
    {
      "cell_type": "code",
      "source": [
        "obj = [-310 ,-310, -310, -380, -380, -380, -350, -350, -350, -285, -285, -285]\n",
        "lhs_ub = [[1, 1, 1, 0, 0, 0, 0, 0, 0, 0, 0, 0],[0, 0, 0, 1, 1, 1, 0, 0, 0, 0, 0, 0],[0, 0, 0, 0, 0, 0, 1, 1, 1, 0, 0, 0],[0, 0, 0, 0, 0, 0, 0, 0, 0, 1, 1, 1],\n",
        "          [1, 0, 0, 1, 0, 0, 1, 0, 0, 1, 0, 0],[0, 1, 0, 0, 1, 0, 0, 1, 0, 0, 1, 0],[0, 0, 1, 0, 0, 1, 0, 0, 1, 0, 0, 1,],\n",
        "          [480, 0, 0, 650, 0, 0, 580, 0, 0, 390, 0, 0],[0, 480, 0, 0, 650, 0, 0, 580, 0, 0, 390, 0],[0, 0, 480, 0, 0, 650, 0, 0, 580, 0, 0, 390]]\n",
        "lhs_eq = [[0.1, -0.062, 0, 0.1, -0.062, 0, 0.1, -0.062, 0, 0.1, -0.062, 0],[0.1, 0, -0.12, 0.1, 0, -0.12, 0.1, 0, -0.12, 0.1, 0, -0.12]]\n",
        "rhs_ub = [18, 15, 23, 12, 10, 16, 8, 6800, 8700, 5300]\n",
        "rhs_eq = [0,0]\n",
        "bnd = [(0, float(\"inf\")), (0, float(\"inf\")), (0, float(\"inf\")), (0, float(\"inf\")), (0, float(\"inf\")), (0, float(\"inf\")), (0, float(\"inf\")), (0, float(\"inf\")), (0, float(\"inf\")), (0, float(\"inf\")), (0, float(\"inf\")), (0, float(\"inf\"))]\n",
        "opt = linprog(c=obj, A_ub=lhs_ub, b_ub=rhs_ub, A_eq=lhs_eq, b_eq=rhs_eq, bounds=bnd, method=\"revised simplex\")\n",
        "opt"
      ],
      "metadata": {
        "colab": {
          "base_uri": "https://localhost:8080/"
        },
        "id": "OYNt456tD1Lx",
        "outputId": "952d4740-2acf-4410-df64-dd03dfc1f8f4"
      },
      "execution_count": 2,
      "outputs": [
        {
          "output_type": "execute_result",
          "data": {
            "text/plain": [
              "     con: array([0.00000000e+00, 1.66533454e-16])\n",
              "     fun: -11933.34465195246\n",
              " message: 'Optimization terminated successfully.'\n",
              "     nit: 10\n",
              "   slack: array([ 1.80000000e+01, -1.77635684e-15,  6.39320883e+00,  1.05229202e+01,\n",
              "        4.00000000e-01,  5.16129032e-01,  0.00000000e+00,  7.42000000e+02,\n",
              "        0.00000000e+00,  1.00000000e+02])\n",
              "  status: 0\n",
              " success: True\n",
              "       x: array([ 0.        ,  0.        ,  0.        ,  7.        ,  0.        ,\n",
              "        8.        ,  2.6       , 14.00679117,  0.        ,  0.        ,\n",
              "        1.4770798 ,  0.        ])"
            ]
          },
          "metadata": {},
          "execution_count": 2
        }
      ]
    },
    {
      "cell_type": "markdown",
      "source": [
        "Problem 2"
      ],
      "metadata": {
        "id": "M2WAiZ4MED3m"
      }
    },
    {
      "cell_type": "code",
      "source": [
        "obj1 = [-5 ,-4]\n",
        "lhs_eq1 = [[6, 4],[1, 2],[-1,1],[0,1]]\n",
        "rhs_eq1 = [24, 6, 1, 2]\n",
        "bnd1 = [(0, float(\"inf\")), (0, float(\"inf\"))]\n",
        "opt1 = linprog(c=obj1, A_ub=lhs_eq1, b_ub=rhs_eq1, bounds=bnd1, method=\"revised simplex\")\n",
        "opt1"
      ],
      "metadata": {
        "colab": {
          "base_uri": "https://localhost:8080/"
        },
        "id": "XsxcZg_2EAK0",
        "outputId": "0084e6c5-0030-4bb3-9391-ec4aefd25b5b"
      },
      "execution_count": 3,
      "outputs": [
        {
          "output_type": "execute_result",
          "data": {
            "text/plain": [
              "     con: array([], dtype=float64)\n",
              "     fun: -21.0\n",
              " message: 'Optimization terminated successfully.'\n",
              "     nit: 2\n",
              "   slack: array([0. , 0. , 2.5, 0.5])\n",
              "  status: 0\n",
              " success: True\n",
              "       x: array([3. , 1.5])"
            ]
          },
          "metadata": {},
          "execution_count": 3
        }
      ]
    },
    {
      "cell_type": "code",
      "source": [
        ""
      ],
      "metadata": {
        "id": "9csvrlCvEF1D"
      },
      "execution_count": null,
      "outputs": []
    }
  ]
}