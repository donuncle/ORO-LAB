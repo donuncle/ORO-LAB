{
  "nbformat": 4,
  "nbformat_minor": 0,
  "metadata": {
    "colab": {
      "name": "Exp_4_Utkarsh_R103219028.ipynb",
      "provenance": [],
      "authorship_tag": "ABX9TyNVZ5bm/Y2p8Oor3dw9xYFg",
      "include_colab_link": true
    },
    "kernelspec": {
      "name": "python3",
      "display_name": "Python 3"
    },
    "language_info": {
      "name": "python"
    }
  },
  "cells": [
    {
      "cell_type": "markdown",
      "metadata": {
        "id": "view-in-github",
        "colab_type": "text"
      },
      "source": [
        "<a href=\"https://colab.research.google.com/github/donuncle/ORO-LAB/blob/main/Exp_4_Utkarsh_R103219028.ipynb\" target=\"_parent\"><img src=\"https://colab.research.google.com/assets/colab-badge.svg\" alt=\"Open In Colab\"/></a>"
      ]
    },
    {
      "cell_type": "code",
      "execution_count": 1,
      "metadata": {
        "id": "pzGid9a_ASpt"
      },
      "outputs": [],
      "source": [
        "import cvxpy as cp"
      ]
    },
    {
      "cell_type": "markdown",
      "source": [
        "Problem-1\n"
      ],
      "metadata": {
        "id": "Rj0-9zLAAZyS"
      }
    },
    {
      "cell_type": "code",
      "source": [
        "x1 = cp.Variable(integer=True)\n",
        "x2 = cp.Variable(integer=True)\n",
        "constraints = [-x1 + 3*x2 <= 6,\n",
        "               7*x1 + x2 <= 35,\n",
        "               x1>=0,\n",
        "               x2>=0]\n",
        "obj = cp.Maximize((7*x1 + 10*x2))\n",
        "prob = cp.Problem(obj, constraints)\n",
        "prob.solve()\n"
      ],
      "metadata": {
        "colab": {
          "base_uri": "https://localhost:8080/"
        },
        "id": "dTpRdWOuAVVT",
        "outputId": "417ed609-0b1d-49ad-8bb2-d7d63f704eb2"
      },
      "execution_count": 2,
      "outputs": [
        {
          "output_type": "execute_result",
          "data": {
            "text/plain": [
              "58.0"
            ]
          },
          "metadata": {},
          "execution_count": 2
        }
      ]
    },
    {
      "cell_type": "markdown",
      "source": [
        "Problem-2\n"
      ],
      "metadata": {
        "id": "BOlyhW7KAcFp"
      }
    },
    {
      "cell_type": "code",
      "source": [
        "x1 = cp.Variable(integer=True)\n",
        "x2 = cp.Variable(integer=True)\n",
        "constraints = [x1 + x2 <= 6,\n",
        "               5*x1 + 9*x2 <= 45,\n",
        "               x1>=0,\n",
        "               x2>=0]\n",
        "obj = cp.Maximize((5*x1 + 8*x2))\n",
        "prob = cp.Problem(obj, constraints)\n",
        "prob.solve()"
      ],
      "metadata": {
        "id": "B7OzZzmuAbfL",
        "outputId": "11157d78-6eff-4310-d703-45faf1ae8465",
        "colab": {
          "base_uri": "https://localhost:8080/"
        }
      },
      "execution_count": 3,
      "outputs": [
        {
          "output_type": "execute_result",
          "data": {
            "text/plain": [
              "40.0"
            ]
          },
          "metadata": {},
          "execution_count": 3
        }
      ]
    },
    {
      "cell_type": "code",
      "source": [
        ""
      ],
      "metadata": {
        "id": "oZ5l1PiLAf5V"
      },
      "execution_count": null,
      "outputs": []
    }
  ]
}